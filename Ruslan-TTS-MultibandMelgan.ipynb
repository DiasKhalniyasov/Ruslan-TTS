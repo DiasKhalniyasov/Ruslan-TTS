{
 "cells": [
  {
   "cell_type": "markdown",
   "metadata": {},
   "source": [
    "# Preprocessing"
   ]
  },
  {
   "cell_type": "code",
   "execution_count": null,
   "metadata": {},
   "outputs": [],
   "source": [
    "parser.add_argument(\"--config_path\", type=str, required=True,\n",
    "                    help=\"TTS config file path to define audio processin parameters.\")\n",
    "parser.add_argument(\"--out_path\", default=None, type=str,\n",
    "                    help=\"directory to save the output file.\")\n"
   ]
  },
  {
   "cell_type": "code",
   "execution_count": 17,
   "metadata": {
    "scrolled": true
   },
   "outputs": [
    {
     "name": "stdout",
     "output_type": "stream",
     "text": [
      " > Setting up Audio Processor...\n",
      " | > sample_rate:16000\n",
      " | > num_mels:80\n",
      " | > min_level_db:-100\n",
      " | > frame_shift_ms:None\n",
      " | > frame_length_ms:None\n",
      " | > ref_level_db:20\n",
      " | > fft_size:1024\n",
      " | > power:1.5\n",
      " | > preemphasis:0.0\n",
      " | > griffin_lim_iters:60\n",
      " | > signal_norm:False\n",
      " | > symmetric_norm:True\n",
      " | > mel_fmin:50.0\n",
      " | > mel_fmax:7600.0\n",
      " | > spec_gain:1.0\n",
      " | > stft_pad_mode:reflect\n",
      " | > max_norm:4.0\n",
      " | > clip_norm:True\n",
      " | > do_trim_silence:True\n",
      " | > trim_db:60\n",
      " | > do_sound_norm:False\n",
      " | > stats_path:None\n",
      " | > hop_length:256\n",
      " | > win_length:1024\n",
      " | > Found 22200 files in /home/dias/Downloads/Ruslan_mono\n",
      " > There are 21978 files.\n",
      "100%|█████████████████████████████████████| 21978/21978 [06:13<00:00, 58.88it/s]\n",
      " > Avg mel spec mean: -2.290687005268809\n",
      " > Avg mel spec scale: 0.8254628181086708\n",
      " > Avg linear spec mean: -1.633475909923078\n",
      " > Avg lienar spec scale: 0.8549587686344885\n",
      " > scale_stats.npy is saved to /home/dias/Downloads/Ruslan_mono/scale_stats.npy\n"
     ]
    }
   ],
   "source": [
    "!python /home/dias/TTS/TTS/TTS/bin/compute_statistics.py --config_path /home/dias/TTS/TTS/TTS/tts/configs/config.json --out_path /home/dias/Downloads/Ruslan_mono/"
   ]
  },
  {
   "cell_type": "markdown",
   "metadata": {},
   "source": [
    "# Training encoder"
   ]
  },
  {
   "cell_type": "code",
   "execution_count": null,
   "metadata": {
    "scrolled": true
   },
   "outputs": [],
   "source": [
    "#logs are hidden as Github could not open the page\n",
    "!python /home/dias/TTS/TTS/TTS/bin/train_tts.py --config_path /home/dias/TTS/TTS/TTS/tts/configs/config.json --continue_path /home/dias/Downloads/Models/Ruslan/ljspeech-ddc-November-09-2020_11+57AM-0000000"
   ]
  },
  {
   "cell_type": "markdown",
   "metadata": {},
   "source": [
    "# Training vocoder"
   ]
  },
  {
   "cell_type": "code",
   "execution_count": 1,
   "metadata": {},
   "outputs": [
    {
     "name": "stdout",
     "output_type": "stream",
     "text": [
      "/home/dias/TTS/TTS/TTS\n"
     ]
    }
   ],
   "source": [
    "cd /home/dias/TTS/TTS/TTS/"
   ]
  },
  {
   "cell_type": "code",
   "execution_count": null,
   "metadata": {
    "scrolled": true
   },
   "outputs": [],
   "source": [
    "#logs are hidden as Github could not open the page\n",
    "!CUDA_VISIBLE_DEVICES='0' python bin/train_vocoder.py --config_path vocoder/configs/multiband_melgan_config.json --continue_path /home/dias/Downloads/Models/Ruslan/multiband-melgan-November-10-2020_08+55AM-af6f862"
   ]
  },
  {
   "cell_type": "markdown",
   "metadata": {},
   "source": [
    "# Testing results"
   ]
  },
  {
   "cell_type": "code",
   "execution_count": 3,
   "metadata": {},
   "outputs": [],
   "source": [
    "def tts(model, text, CONFIG, use_cuda, ap, use_gl, figures=True):\n",
    "    t_1 = time.time()\n",
    "    waveform, alignment, mel_spec, mel_postnet_spec, stop_tokens, inputs = synthesis(model, text, CONFIG, use_cuda, ap, speaker_id, style_wav=None,\n",
    "                                                                             truncated=False, enable_eos_bos_chars=CONFIG.enable_eos_bos_chars)\n",
    "    # mel_postnet_spec = ap._denormalize(mel_postnet_spec.T)\n",
    "    if not use_gl:\n",
    "        waveform = vocoder_model.inference(torch.FloatTensor(mel_postnet_spec.T).unsqueeze(0))\n",
    "        waveform = waveform.flatten()\n",
    "    if use_cuda:\n",
    "        waveform = waveform.cpu()\n",
    "    waveform = waveform.numpy()\n",
    "    rtf = (time.time() - t_1) / (len(waveform) / ap.sample_rate)\n",
    "    tps = (time.time() - t_1) / len(waveform)\n",
    "    print(waveform.shape)\n",
    "    print(\" > Run-time: {}\".format(time.time() - t_1))\n",
    "    print(\" > Real-time factor: {}\".format(rtf))\n",
    "    print(\" > Time per step: {}\".format(tps))\n",
    "    IPython.display.display(IPython.display.Audio(waveform, rate=CONFIG.audio['sample_rate']))  \n",
    "    return alignment, mel_postnet_spec, stop_tokens, waveform"
   ]
  },
  {
   "cell_type": "code",
   "execution_count": 4,
   "metadata": {},
   "outputs": [],
   "source": [
    "import sys\n",
    "import os\n",
    "import torch\n",
    "import time\n",
    "import IPython\n",
    "\n",
    "# for some reason TTS installation does not work on Colab\n",
    "sys.path.append('TTS_repo')\n",
    "\n",
    "from TTS.utils.io import load_config\n",
    "from TTS.utils.audio import AudioProcessor\n",
    "from TTS.tts.utils.generic_utils import setup_model\n",
    "from TTS.tts.utils.text.symbols import symbols, phonemes\n",
    "from TTS.tts.utils.synthesis import synthesis\n",
    "from TTS.tts.utils.io import load_checkpoint"
   ]
  },
  {
   "cell_type": "code",
   "execution_count": 11,
   "metadata": {},
   "outputs": [],
   "source": [
    "# model paths\n",
    "path_vocoder ='/home/dias/Downloads/Models/Ruslan/multiband-melgan-November-10-2020_08+55AM-af6f862'\n",
    "path_tts = '/home/dias/Downloads/Models/Ruslan/ljspeech-ddc-November-09-2020_11+57AM-0000000'\n",
    "TTS_MODEL = path_tts+\"/best_model.pth.tar\"\n",
    "TTS_CONFIG = path_tts+\"/config.json\"\n",
    "VOCODER_MODEL = path_vocoder+\"/best_model.pth.tar\"\n",
    "VOCODER_CONFIG = path_vocoder+\"/config.json\"\n"
   ]
  },
  {
   "cell_type": "code",
   "execution_count": 12,
   "metadata": {},
   "outputs": [],
   "source": [
    "# load configs\n",
    "TTS_CONFIG = load_config(TTS_CONFIG)\n",
    "VOCODER_CONFIG = load_config(VOCODER_CONFIG)"
   ]
  },
  {
   "cell_type": "code",
   "execution_count": 13,
   "metadata": {},
   "outputs": [
    {
     "name": "stdout",
     "output_type": "stream",
     "text": [
      " > Setting up Audio Processor...\n",
      " | > sample_rate:16000\n",
      " | > num_mels:80\n",
      " | > min_level_db:-100\n",
      " | > frame_shift_ms:None\n",
      " | > frame_length_ms:None\n",
      " | > ref_level_db:20\n",
      " | > fft_size:1024\n",
      " | > power:1.5\n",
      " | > preemphasis:0.0\n",
      " | > griffin_lim_iters:60\n",
      " | > signal_norm:True\n",
      " | > symmetric_norm:True\n",
      " | > mel_fmin:50.0\n",
      " | > mel_fmax:7600.0\n",
      " | > spec_gain:1.0\n",
      " | > stft_pad_mode:reflect\n",
      " | > max_norm:4.0\n",
      " | > clip_norm:True\n",
      " | > do_trim_silence:True\n",
      " | > trim_db:60\n",
      " | > do_sound_norm:False\n",
      " | > stats_path:/home/dias/Downloads/Ruslan_mono/scale_stats.npy\n",
      " | > hop_length:256\n",
      " | > win_length:1024\n"
     ]
    }
   ],
   "source": [
    "# load the audio processor\n",
    "ap = AudioProcessor(**TTS_CONFIG.audio)         "
   ]
  },
  {
   "cell_type": "code",
   "execution_count": 14,
   "metadata": {},
   "outputs": [
    {
     "name": "stdout",
     "output_type": "stream",
     "text": [
      " > Using model: Tacotron2\n"
     ]
    }
   ],
   "source": [
    "# LOAD TTS MODEL\n",
    "# multi speaker \n",
    "speaker_id = None\n",
    "speakers = []\n",
    "# load the model\n",
    "# runtime settings\n",
    "use_cuda = True\n",
    "num_chars = len(phonemes) if TTS_CONFIG.use_phonemes else len(symbols)\n",
    "model = setup_model(num_chars, len(speakers), TTS_CONFIG)\n",
    "\n",
    "# load model state\n",
    "cp =  torch.load(TTS_MODEL, map_location=torch.device('cpu'))\n",
    "\n",
    "# load the model\n",
    "model.load_state_dict(cp['model'])\n",
    "if use_cuda:\n",
    "    model.cuda()\n",
    "model.eval()\n",
    "\n",
    "# set model stepsize\n",
    "if 'r' in cp:\n",
    "    model.decoder.set_r(cp['r'])"
   ]
  },
  {
   "cell_type": "code",
   "execution_count": 15,
   "metadata": {},
   "outputs": [
    {
     "name": "stdout",
     "output_type": "stream",
     "text": [
      " > Generator Model: multiband_melgan_generator\n",
      " > Setting up Audio Processor...\n",
      " | > sample_rate:16000\n",
      " | > num_mels:80\n",
      " | > min_level_db:-100\n",
      " | > frame_shift_ms:None\n",
      " | > frame_length_ms:None\n",
      " | > ref_level_db:0\n",
      " | > fft_size:1024\n",
      " | > power:None\n",
      " | > preemphasis:0.0\n",
      " | > griffin_lim_iters:None\n",
      " | > signal_norm:True\n",
      " | > symmetric_norm:True\n",
      " | > mel_fmin:50.0\n",
      " | > mel_fmax:7600.0\n",
      " | > spec_gain:1.0\n",
      " | > stft_pad_mode:reflect\n",
      " | > max_norm:4.0\n",
      " | > clip_norm:True\n",
      " | > do_trim_silence:True\n",
      " | > trim_db:60\n",
      " | > do_sound_norm:False\n",
      " | > stats_path:/home/dias/Downloads/Ruslan_mono/scale_stats.npy\n",
      " | > hop_length:256\n",
      " | > win_length:1024\n"
     ]
    },
    {
     "data": {
      "text/plain": [
       "MultibandMelganGenerator(\n",
       "  (layers): Sequential(\n",
       "    (0): ReflectionPad1d((3, 3))\n",
       "    (1): Conv1d(80, 384, kernel_size=(7,), stride=(1,))\n",
       "    (2): LeakyReLU(negative_slope=0.2)\n",
       "    (3): ConvTranspose1d(384, 192, kernel_size=(16,), stride=(8,), padding=(4,))\n",
       "    (4): ResidualStack(\n",
       "      (blocks): ModuleList(\n",
       "        (0): Sequential(\n",
       "          (0): LeakyReLU(negative_slope=0.2)\n",
       "          (1): ReflectionPad1d((1, 1))\n",
       "          (2): Conv1d(192, 192, kernel_size=(3,), stride=(1,))\n",
       "          (3): LeakyReLU(negative_slope=0.2)\n",
       "          (4): Conv1d(192, 192, kernel_size=(1,), stride=(1,))\n",
       "        )\n",
       "        (1): Sequential(\n",
       "          (0): LeakyReLU(negative_slope=0.2)\n",
       "          (1): ReflectionPad1d((3, 3))\n",
       "          (2): Conv1d(192, 192, kernel_size=(3,), stride=(1,), dilation=(3,))\n",
       "          (3): LeakyReLU(negative_slope=0.2)\n",
       "          (4): Conv1d(192, 192, kernel_size=(1,), stride=(1,))\n",
       "        )\n",
       "        (2): Sequential(\n",
       "          (0): LeakyReLU(negative_slope=0.2)\n",
       "          (1): ReflectionPad1d((9, 9))\n",
       "          (2): Conv1d(192, 192, kernel_size=(3,), stride=(1,), dilation=(9,))\n",
       "          (3): LeakyReLU(negative_slope=0.2)\n",
       "          (4): Conv1d(192, 192, kernel_size=(1,), stride=(1,))\n",
       "        )\n",
       "        (3): Sequential(\n",
       "          (0): LeakyReLU(negative_slope=0.2)\n",
       "          (1): ReflectionPad1d((27, 27))\n",
       "          (2): Conv1d(192, 192, kernel_size=(3,), stride=(1,), dilation=(27,))\n",
       "          (3): LeakyReLU(negative_slope=0.2)\n",
       "          (4): Conv1d(192, 192, kernel_size=(1,), stride=(1,))\n",
       "        )\n",
       "      )\n",
       "      (shortcuts): ModuleList(\n",
       "        (0): Conv1d(192, 192, kernel_size=(1,), stride=(1,))\n",
       "        (1): Conv1d(192, 192, kernel_size=(1,), stride=(1,))\n",
       "        (2): Conv1d(192, 192, kernel_size=(1,), stride=(1,))\n",
       "        (3): Conv1d(192, 192, kernel_size=(1,), stride=(1,))\n",
       "      )\n",
       "    )\n",
       "    (5): LeakyReLU(negative_slope=0.2)\n",
       "    (6): ConvTranspose1d(192, 96, kernel_size=(8,), stride=(4,), padding=(2,))\n",
       "    (7): ResidualStack(\n",
       "      (blocks): ModuleList(\n",
       "        (0): Sequential(\n",
       "          (0): LeakyReLU(negative_slope=0.2)\n",
       "          (1): ReflectionPad1d((1, 1))\n",
       "          (2): Conv1d(96, 96, kernel_size=(3,), stride=(1,))\n",
       "          (3): LeakyReLU(negative_slope=0.2)\n",
       "          (4): Conv1d(96, 96, kernel_size=(1,), stride=(1,))\n",
       "        )\n",
       "        (1): Sequential(\n",
       "          (0): LeakyReLU(negative_slope=0.2)\n",
       "          (1): ReflectionPad1d((3, 3))\n",
       "          (2): Conv1d(96, 96, kernel_size=(3,), stride=(1,), dilation=(3,))\n",
       "          (3): LeakyReLU(negative_slope=0.2)\n",
       "          (4): Conv1d(96, 96, kernel_size=(1,), stride=(1,))\n",
       "        )\n",
       "        (2): Sequential(\n",
       "          (0): LeakyReLU(negative_slope=0.2)\n",
       "          (1): ReflectionPad1d((9, 9))\n",
       "          (2): Conv1d(96, 96, kernel_size=(3,), stride=(1,), dilation=(9,))\n",
       "          (3): LeakyReLU(negative_slope=0.2)\n",
       "          (4): Conv1d(96, 96, kernel_size=(1,), stride=(1,))\n",
       "        )\n",
       "        (3): Sequential(\n",
       "          (0): LeakyReLU(negative_slope=0.2)\n",
       "          (1): ReflectionPad1d((27, 27))\n",
       "          (2): Conv1d(96, 96, kernel_size=(3,), stride=(1,), dilation=(27,))\n",
       "          (3): LeakyReLU(negative_slope=0.2)\n",
       "          (4): Conv1d(96, 96, kernel_size=(1,), stride=(1,))\n",
       "        )\n",
       "      )\n",
       "      (shortcuts): ModuleList(\n",
       "        (0): Conv1d(96, 96, kernel_size=(1,), stride=(1,))\n",
       "        (1): Conv1d(96, 96, kernel_size=(1,), stride=(1,))\n",
       "        (2): Conv1d(96, 96, kernel_size=(1,), stride=(1,))\n",
       "        (3): Conv1d(96, 96, kernel_size=(1,), stride=(1,))\n",
       "      )\n",
       "    )\n",
       "    (8): LeakyReLU(negative_slope=0.2)\n",
       "    (9): ConvTranspose1d(96, 48, kernel_size=(4,), stride=(2,), padding=(1,))\n",
       "    (10): ResidualStack(\n",
       "      (blocks): ModuleList(\n",
       "        (0): Sequential(\n",
       "          (0): LeakyReLU(negative_slope=0.2)\n",
       "          (1): ReflectionPad1d((1, 1))\n",
       "          (2): Conv1d(48, 48, kernel_size=(3,), stride=(1,))\n",
       "          (3): LeakyReLU(negative_slope=0.2)\n",
       "          (4): Conv1d(48, 48, kernel_size=(1,), stride=(1,))\n",
       "        )\n",
       "        (1): Sequential(\n",
       "          (0): LeakyReLU(negative_slope=0.2)\n",
       "          (1): ReflectionPad1d((3, 3))\n",
       "          (2): Conv1d(48, 48, kernel_size=(3,), stride=(1,), dilation=(3,))\n",
       "          (3): LeakyReLU(negative_slope=0.2)\n",
       "          (4): Conv1d(48, 48, kernel_size=(1,), stride=(1,))\n",
       "        )\n",
       "        (2): Sequential(\n",
       "          (0): LeakyReLU(negative_slope=0.2)\n",
       "          (1): ReflectionPad1d((9, 9))\n",
       "          (2): Conv1d(48, 48, kernel_size=(3,), stride=(1,), dilation=(9,))\n",
       "          (3): LeakyReLU(negative_slope=0.2)\n",
       "          (4): Conv1d(48, 48, kernel_size=(1,), stride=(1,))\n",
       "        )\n",
       "        (3): Sequential(\n",
       "          (0): LeakyReLU(negative_slope=0.2)\n",
       "          (1): ReflectionPad1d((27, 27))\n",
       "          (2): Conv1d(48, 48, kernel_size=(3,), stride=(1,), dilation=(27,))\n",
       "          (3): LeakyReLU(negative_slope=0.2)\n",
       "          (4): Conv1d(48, 48, kernel_size=(1,), stride=(1,))\n",
       "        )\n",
       "      )\n",
       "      (shortcuts): ModuleList(\n",
       "        (0): Conv1d(48, 48, kernel_size=(1,), stride=(1,))\n",
       "        (1): Conv1d(48, 48, kernel_size=(1,), stride=(1,))\n",
       "        (2): Conv1d(48, 48, kernel_size=(1,), stride=(1,))\n",
       "        (3): Conv1d(48, 48, kernel_size=(1,), stride=(1,))\n",
       "      )\n",
       "    )\n",
       "    (11): LeakyReLU(negative_slope=0.2)\n",
       "    (12): ReflectionPad1d((3, 3))\n",
       "    (13): Conv1d(48, 4, kernel_size=(7,), stride=(1,))\n",
       "    (14): Tanh()\n",
       "  )\n",
       "  (pqmf_layer): PQMF(\n",
       "    (pad_fn): ConstantPad1d(padding=(31, 31), value=0.0)\n",
       "  )\n",
       ")"
      ]
     },
     "execution_count": 15,
     "metadata": {},
     "output_type": "execute_result"
    }
   ],
   "source": [
    "\n",
    "\n",
    "from TTS.vocoder.utils.generic_utils import setup_generator\n",
    "\n",
    "# LOAD VOCODER MODEL\n",
    "vocoder_model = setup_generator(VOCODER_CONFIG)\n",
    "vocoder_model.load_state_dict(torch.load(VOCODER_MODEL, map_location=\"cpu\")[\"model\"])\n",
    "vocoder_model.remove_weight_norm()\n",
    "vocoder_model.inference_padding = 0\n",
    "\n",
    "ap_vocoder = AudioProcessor(**VOCODER_CONFIG['audio'])    \n",
    "if use_cuda:\n",
    "    vocoder_model.cuda()\n",
    "vocoder_model.eval()\n",
    "\n"
   ]
  },
  {
   "cell_type": "code",
   "execution_count": 31,
   "metadata": {},
   "outputs": [
    {
     "name": "stdout",
     "output_type": "stream",
     "text": [
      "(23552,)\n",
      " > Run-time: 0.07555699348449707\n",
      " > Real-time factor: 0.05127991671147554\n",
      " > Time per step: 3.2050656559674637e-06\n"
     ]
    },
    {
     "data": {
      "text/html": [
       "\n",
       "                <audio  controls=\"controls\" >\n",
       "                    <source src=\"data:audio/wav;base64,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\" type=\"audio/wav\" />\n",
       "                    Your browser does not support the audio element.\n",
       "                </audio>\n",
       "              "
      ],
      "text/plain": [
       "<IPython.lib.display.Audio object>"
      ]
     },
     "metadata": {},
     "output_type": "display_data"
    }
   ],
   "source": [
    "sentence =  \"Мой папа много работает\"\n",
    "align, spec, stop_tokens, wav = tts(model, sentence, TTS_CONFIG, use_cuda, ap, use_gl=False, figures=True)"
   ]
  },
  {
   "cell_type": "code",
   "execution_count": null,
   "metadata": {},
   "outputs": [],
   "source": []
  }
 ],
 "metadata": {
  "kernelspec": {
   "display_name": "Python 3",
   "language": "python",
   "name": "python3"
  },
  "language_info": {
   "codemirror_mode": {
    "name": "ipython",
    "version": 3
   },
   "file_extension": ".py",
   "mimetype": "text/x-python",
   "name": "python",
   "nbconvert_exporter": "python",
   "pygments_lexer": "ipython3",
   "version": "3.8.5"
  }
 },
 "nbformat": 4,
 "nbformat_minor": 4
}
